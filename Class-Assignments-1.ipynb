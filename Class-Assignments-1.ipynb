{
 "cells": [
  {
   "cell_type": "code",
   "execution_count": 16,
   "id": "ec09533f",
   "metadata": {},
   "outputs": [],
   "source": [
    "class SubfieldsInAI():\n",
    "    def Subfields():\n",
    "        Fields=(\"Machine Learning\",\"Neural Networks\",\"Vision\",\"Robotics\",\"Speech Processing\",\"Natural Language Processing\")\n",
    "        print(\"Sub-fields in AI are:\")\n",
    "        for subFields in Fields:\n",
    "            print(subFields)\n"
   ]
  },
  {
   "cell_type": "code",
   "execution_count": 17,
   "id": "36de6cfb",
   "metadata": {},
   "outputs": [
    {
     "name": "stdout",
     "output_type": "stream",
     "text": [
      "Sub-fields in AI are:\n",
      "Machine Learning\n",
      "Neural Networks\n",
      "Vision\n",
      "Robotics\n",
      "Speech Processing\n",
      "Natural Language Processing\n"
     ]
    }
   ],
   "source": [
    "SubfieldsInAI.Subfields()"
   ]
  },
  {
   "cell_type": "code",
   "execution_count": 34,
   "id": "52049c53",
   "metadata": {},
   "outputs": [],
   "source": [
    "class OddEven():\n",
    "    def OddEven():\n",
    "        Number=int(input(\"Enter a number:\"))\n",
    "        if (Number%2==1):\n",
    "            print(Number,\"is odd number\")\n",
    "        else:\n",
    "            print(Number,\"is Even number\")\n",
    "        return Number"
   ]
  },
  {
   "cell_type": "code",
   "execution_count": 35,
   "id": "969b6ea9",
   "metadata": {},
   "outputs": [
    {
     "name": "stdout",
     "output_type": "stream",
     "text": [
      "Enter a number:52452\n",
      "52452 is Even number\n"
     ]
    },
    {
     "data": {
      "text/plain": [
       "52452"
      ]
     },
     "execution_count": 35,
     "metadata": {},
     "output_type": "execute_result"
    }
   ],
   "source": [
    "OddEven.OddEven()"
   ]
  },
  {
   "cell_type": "code",
   "execution_count": 36,
   "id": "7d140579",
   "metadata": {},
   "outputs": [],
   "source": [
    "class ElegiblityForMarriage():\n",
    "    def Elegible():\n",
    "        Gender=str(input(\"Your Gender:\"))\n",
    "        Age=int(input(\"Your Age:\"))\n",
    "        Gender1=Gender.lower()\n",
    "        if Gender1==\"male\":\n",
    "            if Age>20:\n",
    "                print(\"ELIGIBLE\")\n",
    "                status =\"ELIGIBLE\"\n",
    "            else:\n",
    "                print(\"NOT ELIGIBLE\")\n",
    "                status =\"NOT ELIGIBLE\"\n",
    "        elif Gender1==\"female\":\n",
    "            if Age>18:\n",
    "                print(\"ELIGIBLE\")\n",
    "                status =\"ELIGIBLE\"\n",
    "            else:\n",
    "                print(\"NOT ELIGIBLE\")\n",
    "                status =\"NOT ELIGIBLE\"\n",
    "        return status"
   ]
  },
  {
   "cell_type": "code",
   "execution_count": 37,
   "id": "8773e1c5",
   "metadata": {},
   "outputs": [
    {
     "name": "stdout",
     "output_type": "stream",
     "text": [
      "Your Gender:Male\n",
      "Your Age:20\n",
      "NOT ELIGIBLE\n"
     ]
    },
    {
     "data": {
      "text/plain": [
       "'NOT ELIGIBLE'"
      ]
     },
     "execution_count": 37,
     "metadata": {},
     "output_type": "execute_result"
    }
   ],
   "source": [
    "ElegiblityForMarriage.Elegible()"
   ]
  },
  {
   "cell_type": "code",
   "execution_count": 38,
   "id": "4c822169",
   "metadata": {},
   "outputs": [],
   "source": [
    "class FindPercent():\n",
    "    def percentage():\n",
    "        sub1=int(input(\"Subject1=\"))\n",
    "        sub2=int(input(\"Subject2=\"))\n",
    "        sub3=int(input(\"Subject3=\"))\n",
    "        sub4=int(input(\"Subject4=\"))\n",
    "        sub5=int(input(\"Subject5=\"))\n",
    "        total=sub1+sub2+sub3+sub4+sub5\n",
    "        percentage= (total/500)*100\n",
    "        print(\"Total :\",total)\n",
    "        print(\"Percentage :\",percentage)\n",
    "        return percentage\n"
   ]
  },
  {
   "cell_type": "code",
   "execution_count": 39,
   "id": "0fa3ceb6",
   "metadata": {},
   "outputs": [
    {
     "name": "stdout",
     "output_type": "stream",
     "text": [
      "Subject1=98\n",
      "Subject2=87\n",
      "Subject3=95\n",
      "Subject4=95\n",
      "Subject5=93\n",
      "Total : 468\n",
      "Percentage : 93.60000000000001\n"
     ]
    },
    {
     "data": {
      "text/plain": [
       "93.60000000000001"
      ]
     },
     "execution_count": 39,
     "metadata": {},
     "output_type": "execute_result"
    }
   ],
   "source": [
    "FindPercent.percentage()"
   ]
  },
  {
   "cell_type": "code",
   "execution_count": 40,
   "id": "d8dcd431",
   "metadata": {},
   "outputs": [],
   "source": [
    "class triangle():\n",
    "    def triangle():\n",
    "        Height=int(input(\"Height:\"))\n",
    "        Breadth=int(input(\"Breadth:\"))\n",
    "        print(\"Area formula: (Height*Breadth)/2\")\n",
    "        AOT=(Height*Breadth)/2\n",
    "        print(\"Area of Triangle:\",AOT)\n",
    "        Height1=int(input(\"Height1:\"))\n",
    "        Height2=int(input(\"Height2:\"))\n",
    "        Breadth1=int(input(\"Breadth1:\"))\n",
    "        print(\"Perimeter formula: Height1+Height2+Breadth1\")\n",
    "        POT=Height1+Height2+Breadth1\n",
    "        print(\"Perimeter of Triangle:\",POT)\n"
   ]
  },
  {
   "cell_type": "code",
   "execution_count": 41,
   "id": "e5139c5e",
   "metadata": {},
   "outputs": [
    {
     "name": "stdout",
     "output_type": "stream",
     "text": [
      "Height:32\n",
      "Breadth:34\n",
      "Area formula: (Height*Breadth)/2\n",
      "Area of Triangle: 544.0\n",
      "Height1:2\n",
      "Height2:4\n",
      "Breadth1:4\n",
      "Perimeter formula: Height1+Height2+Breadth1\n",
      "Perimeter of Triangle: 10\n"
     ]
    }
   ],
   "source": [
    "triangle.triangle()"
   ]
  },
  {
   "cell_type": "code",
   "execution_count": null,
   "id": "827571c9",
   "metadata": {},
   "outputs": [],
   "source": []
  }
 ],
 "metadata": {
  "kernelspec": {
   "display_name": "Python 3 (ipykernel)",
   "language": "python",
   "name": "python3"
  },
  "language_info": {
   "codemirror_mode": {
    "name": "ipython",
    "version": 3
   },
   "file_extension": ".py",
   "mimetype": "text/x-python",
   "name": "python",
   "nbconvert_exporter": "python",
   "pygments_lexer": "ipython3",
   "version": "3.11.5"
  }
 },
 "nbformat": 4,
 "nbformat_minor": 5
}
