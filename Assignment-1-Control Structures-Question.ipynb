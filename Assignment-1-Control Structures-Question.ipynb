{
 "cells": [
  {
   "cell_type": "code",
   "execution_count": 2,
   "id": "ffb2e648",
   "metadata": {},
   "outputs": [
    {
     "name": "stdout",
     "output_type": "stream",
     "text": [
      "Welcome to Assignment-1\n"
     ]
    }
   ],
   "source": [
    "#Print\n",
    "print(\"Welcome to Assignment-1\")"
   ]
  },
  {
   "cell_type": "code",
   "execution_count": 9,
   "id": "250bb5bc",
   "metadata": {},
   "outputs": [
    {
     "name": "stdout",
     "output_type": "stream",
     "text": [
      "Num1= 10\n",
      "Num2= 30\n",
      "Add= 40\n"
     ]
    }
   ],
   "source": [
    "#Addition\n",
    "Num1= 10\n",
    "Num2= 30\n",
    "Add= Num1+Num2\n",
    "print(\"Num1=\",Num1) \n",
    "print(\"Num2=\",Num2) \n",
    "print(\"Add=\" ,Add)"
   ]
  },
  {
   "cell_type": "code",
   "execution_count": 25,
   "id": "225becc8",
   "metadata": {},
   "outputs": [
    {
     "name": "stdout",
     "output_type": "stream",
     "text": [
      "Enter the BMI Index:34\n",
      "Very Overweight\n"
     ]
    }
   ],
   "source": [
    "#Body Mass Index\n",
    "BMIIndex=int(input(\"Enter the BMI Index:\"))\n",
    "if BMIIndex<18.5: \n",
    "     print(\"Underweight\") \n",
    "elif BMIIndex<25:\n",
    "     print(\"Normal\")\n",
    "elif BMIIndex<30: \n",
    "     print(\"Overweight\") \n",
    "else:\n",
    "     print(\"Very Overweight\") "
   ]
  },
  {
   "cell_type": "code",
   "execution_count": null,
   "id": "8b0334e8",
   "metadata": {},
   "outputs": [],
   "source": []
  }
 ],
 "metadata": {
  "kernelspec": {
   "display_name": "Python 3 (ipykernel)",
   "language": "python",
   "name": "python3"
  },
  "language_info": {
   "codemirror_mode": {
    "name": "ipython",
    "version": 3
   },
   "file_extension": ".py",
   "mimetype": "text/x-python",
   "name": "python",
   "nbconvert_exporter": "python",
   "pygments_lexer": "ipython3",
   "version": "3.11.5"
  }
 },
 "nbformat": 4,
 "nbformat_minor": 5
}
